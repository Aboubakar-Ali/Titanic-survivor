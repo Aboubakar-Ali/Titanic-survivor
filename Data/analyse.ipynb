{
 "cells": [
  {
   "cell_type": "code",
   "execution_count": 4,
   "metadata": {},
   "outputs": [
    {
     "name": "stdout",
     "output_type": "stream",
     "text": [
      "Survived  Décédés  Survivants\n",
      "Pclass                       \n",
      "1              80         136\n",
      "2              97          87\n",
      "3             372         119\n"
     ]
    }
   ],
   "source": [
    "import pandas as pd\n",
    "\n",
    "# charger le fichier CSV dans un DataFrame pandas\n",
    "df = pd.read_csv('train.csv')\n",
    "\n",
    "# créer une table pivot pour le nombre de survivants par classe\n",
    "table = pd.pivot_table(df, values='PassengerId', index=['Pclass'], columns=['Survived'], aggfunc='count')\n",
    "\n",
    "# renommer les colonnes pour indiquer que 0 = morts et 1 = survivants\n",
    "table = table.rename(columns={0:'Décédés', 1:'Survivants'})\n",
    "\n",
    "# afficher la table pivot\n",
    "print(table)\n"
   ]
  },
  {
   "cell_type": "code",
   "execution_count": 7,
   "metadata": {},
   "outputs": [
    {
     "name": "stdout",
     "output_type": "stream",
     "text": [
      "Survived       Décédés  Survivants\n",
      "Sex    Pclass                     \n",
      "female 1             3          91\n",
      "       2             6          70\n",
      "       3            72          72\n",
      "male   1            77          45\n",
      "       2            91          17\n",
      "       3           300          47\n"
     ]
    }
   ],
   "source": [
    "import pandas as pd\n",
    "\n",
    "# charger le fichier CSV dans un DataFrame pandas\n",
    "df = pd.read_csv('train.csv')\n",
    "\n",
    "# créer une table pivot pour le nombre de survivants par sexe et par classe\n",
    "table = pd.pivot_table(df, values='PassengerId', index=['Sex', 'Pclass'], columns=['Survived'], aggfunc='count')\n",
    "\n",
    "# renommer les colonnes pour indiquer que 0 = morts et 1 = survivants\n",
    "table = table.rename(columns={0:'Décédés', 1:'Survivants'})\n",
    "\n",
    "# afficher la table pivot\n",
    "print(table)\n"
   ]
  },
  {
   "cell_type": "code",
   "execution_count": 12,
   "metadata": {},
   "outputs": [
    {
     "name": "stdout",
     "output_type": "stream",
     "text": [
      "Pourcentage de décès total par sexe :\n",
      "Sex\n",
      "female    14.754098\n",
      "male      85.245902\n",
      "Name: Décédés, dtype: float64\n"
     ]
    },
    {
     "name": "stderr",
     "output_type": "stream",
     "text": [
      "C:\\Users\\lenovo\\AppData\\Local\\Temp\\ipykernel_27720\\2906669136.py:16: FutureWarning: Using the level keyword in DataFrame and Series aggregations is deprecated and will be removed in a future version. Use groupby instead. df.sum(level=1) should use df.groupby(level=1).sum().\n",
      "  deaths_by_sex = table['Décédés'].sum(level=0)\n"
     ]
    }
   ],
   "source": [
    "import pandas as pd\n",
    "\n",
    "# charger le fichier CSV dans un DataFrame pandas\n",
    "df = pd.read_csv('train.csv')\n",
    "\n",
    "# créer une table pivot pour le nombre de survivants par sexe et par classe\n",
    "table = pd.pivot_table(df, values='PassengerId', index=['Sex', 'Pclass'], columns=['Survived'], aggfunc='count')\n",
    "\n",
    "# renommer les colonnes pour indiquer que 0 = morts et 1 = survivants\n",
    "table = table.rename(columns={0:'Décédés', 1:'Survivants'})\n",
    "\n",
    "# calculer le nombre total de décès\n",
    "total_deaths = table['Décédés'].sum()\n",
    "\n",
    "# calculer le nombre de décès pour chaque sexe\n",
    "deaths_by_sex = table['Décédés'].sum(level=0)\n",
    "\n",
    "# calculer le pourcentage de décès pour chaque sexe par rapport au nombre total de décès\n",
    "death_percentages = deaths_by_sex / total_deaths * 100\n",
    "\n",
    "# afficher les pourcentages de décès pour chaque sexe\n",
    "print(\"Pourcentage de décès total par sexe :\")\n",
    "print(death_percentages)\n"
   ]
  },
  {
   "cell_type": "code",
   "execution_count": 14,
   "metadata": {},
   "outputs": [
    {
     "name": "stdout",
     "output_type": "stream",
     "text": [
      "Nombre de décès et de survivants par groupe d'âge :\n",
      "Survived           0    1\n",
      "AgeGroup                 \n",
      "Enfants           69   70\n",
      "Adultes          348  219\n",
      "Personnes âgées    7    1\n",
      "\n",
      "Pourcentage de décès par groupe d'âge :\n",
      "AgeGroup\n",
      "Enfants            49.640288\n",
      "Adultes            61.375661\n",
      "Personnes âgées    87.500000\n",
      "dtype: float64\n"
     ]
    }
   ],
   "source": [
    "import pandas as pd\n",
    "import numpy as np\n",
    "\n",
    "# charger le fichier CSV dans un DataFrame pandas\n",
    "df = pd.read_csv('train.csv')\n",
    "\n",
    "# créer des groupes d'âge (en années)\n",
    "bins = [0, 18, 65, np.inf]\n",
    "labels = ['Enfants', 'Adultes', 'Personnes âgées']\n",
    "df['AgeGroup'] = pd.cut(df['Age'], bins=bins, labels=labels, include_lowest=True)\n",
    "\n",
    "# compter le nombre de décès et de survivants par groupe d'âge\n",
    "deaths_and_survivors_by_age = df.groupby(['AgeGroup', 'Survived'])['PassengerId'].count().unstack()\n",
    "\n",
    "# calculer le pourcentage de décès pour chaque groupe d'âge\n",
    "deaths_percentages_by_age = deaths_and_survivors_by_age[0] / (deaths_and_survivors_by_age[0] + deaths_and_survivors_by_age[1]) * 100\n",
    "\n",
    "# afficher les résultats\n",
    "print(\"Nombre de décès et de survivants par groupe d'âge :\")\n",
    "print(deaths_and_survivors_by_age)\n",
    "print(\"\\nPourcentage de décès par groupe d'âge :\")\n",
    "print(deaths_percentages_by_age)\n"
   ]
  }
 ],
 "metadata": {
  "kernelspec": {
   "display_name": "Python 3",
   "language": "python",
   "name": "python3"
  },
  "language_info": {
   "codemirror_mode": {
    "name": "ipython",
    "version": 3
   },
   "file_extension": ".py",
   "mimetype": "text/x-python",
   "name": "python",
   "nbconvert_exporter": "python",
   "pygments_lexer": "ipython3",
   "version": "3.10.2"
  },
  "orig_nbformat": 4
 },
 "nbformat": 4,
 "nbformat_minor": 2
}
