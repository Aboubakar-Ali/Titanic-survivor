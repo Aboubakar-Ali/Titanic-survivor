{
 "cells": [
  {
   "cell_type": "code",
   "execution_count": 3,
   "metadata": {},
   "outputs": [
    {
     "name": "stdout",
     "output_type": "stream",
     "text": [
      "Précision :  0.7988826815642458\n",
      "Rappel :  0.7567567567567568\n",
      "Score F1 :  0.7567567567567567\n",
      "AUC-ROC :  0.7926640926640927\n",
      "Matrice de confusion : \n",
      " [[87 18]\n",
      " [18 56]]\n"
     ]
    }
   ],
   "source": [
    "import pandas as pd\n",
    "from sklearn.model_selection import train_test_split\n",
    "from sklearn.linear_model import LogisticRegression\n",
    "from sklearn.metrics import accuracy_score, recall_score, f1_score, roc_auc_score, confusion_matrix\n",
    "import joblib\n",
    "\n",
    "# Charger les données prétraitées\n",
    "df = pd.read_csv('preprocessed_data.csv')\n",
    "\n",
    "# Sélectionnez les colonnes de caractéristiques et la colonne cible\n",
    "X = df[['Sex', 'Age', 'Pclass', 'Embarked']]\n",
    "y = df['Survived']\n",
    "\n",
    "# Divisez les données en ensembles d'entraînement et de test (80% pour l'entraînement, 20% pour le test)\n",
    "X_train, X_test, y_train, y_test = train_test_split(X, y, test_size=0.2, random_state=42)\n",
    "\n",
    "# Charger le modèle entraîné\n",
    "logistic_regression = joblib.load('logistic_regression_model.pkl')\n",
    "\n",
    "# Prédire les résultats pour l'ensemble de test\n",
    "y_pred = logistic_regression.predict(X_test)\n",
    "\n",
    "# Calculer la précision, le rappel, le score F1 et l'AUC-ROC\n",
    "accuracy = accuracy_score(y_test, y_pred)\n",
    "recall = recall_score(y_test, y_pred)\n",
    "f1 = f1_score(y_test, y_pred)\n",
    "roc_auc = roc_auc_score(y_test, y_pred)\n",
    "\n",
    "# Afficher les métriques de performance\n",
    "print(\"Précision : \", accuracy)\n",
    "print(\"Rappel : \", recall)\n",
    "print(\"Score F1 : \", f1)\n",
    "print(\"AUC-ROC : \", roc_auc)\n",
    "\n",
    "# Afficher la matrice de confusion\n",
    "confusion_mat = confusion_matrix(y_test, y_pred)\n",
    "print(\"Matrice de confusion : \\n\", confusion_mat)\n"
   ]
  }
 ],
 "metadata": {
  "kernelspec": {
   "display_name": "Python 3",
   "language": "python",
   "name": "python3"
  },
  "language_info": {
   "codemirror_mode": {
    "name": "ipython",
    "version": 3
   },
   "file_extension": ".py",
   "mimetype": "text/x-python",
   "name": "python",
   "nbconvert_exporter": "python",
   "pygments_lexer": "ipython3",
   "version": "3.10.2"
  },
  "orig_nbformat": 4
 },
 "nbformat": 4,
 "nbformat_minor": 2
}
